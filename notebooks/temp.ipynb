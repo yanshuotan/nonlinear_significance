{
 "cells": [
  {
   "cell_type": "code",
   "execution_count": 17,
   "metadata": {
    "collapsed": true
   },
   "outputs": [
    {
     "name": "stdout",
     "output_type": "stream",
     "text": [
      "The autoreload extension is already loaded. To reload it, use:\n",
      "  %reload_ext autoreload\n"
     ]
    }
   ],
   "source": [
    "%load_ext autoreload\n",
    "\n",
    "%autoreload 2\n",
    "\n",
    "import sys\n",
    "import numpy as np\n",
    "\n",
    "from sklearn.tree import DecisionTreeRegressor\n",
    "sys.path.append(\"..\")\n",
    "\n",
    "from scripts.util import *"
   ]
  },
  {
   "cell_type": "code",
   "execution_count": 2,
   "outputs": [],
   "source": [
    "# Linear generative model\n",
    "\n",
    "n = 200\n",
    "d = 10\n",
    "sigma = 0.1\n",
    "\n",
    "X = np.random.randn(n, d)\n",
    "beta = np.random.randn(d)\n",
    "y = X @ beta + np.random.randn(n) * sigma"
   ],
   "metadata": {
    "collapsed": false,
    "pycharm": {
     "name": "#%%\n"
    }
   }
  },
  {
   "cell_type": "code",
   "execution_count": 48,
   "outputs": [],
   "source": [
    "# Spike generative model\n",
    "\n",
    "n = 200\n",
    "d = 2\n",
    "sigma = 0\n",
    "\n",
    "X = np.random.randn(n, d)\n",
    "def spike(x):\n",
    "    return all(x > 0)\n",
    "y = np.apply_along_axis(spike, 1, X) + np.random.randn(n) * sigma"
   ],
   "metadata": {
    "collapsed": false,
    "pycharm": {
     "name": "#%%\n"
    }
   }
  },
  {
   "cell_type": "code",
   "execution_count": 63,
   "outputs": [],
   "source": [
    "decision_tree = DecisionTreeRegressor(max_depth=2)\n",
    "decision_tree.fit(X, y)\n",
    "tree_struct = decision_tree.tree_\n",
    "stumps = make_stumps(decision_tree.tree_, normalize=True)"
   ],
   "metadata": {
    "collapsed": false,
    "pycharm": {
     "name": "#%%\n"
    }
   }
  },
  {
   "cell_type": "code",
   "execution_count": 64,
   "outputs": [
    {
     "data": {
      "text/plain": "[LocalDecisionStump(feature=0, threshold=0.0002271244302392006, left_val=-0.9801960588196069, right_val=1.020204061220407, a_features=[], a_thresholds=[], a_signs=[]),\n LocalDecisionStump(feature=1, threshold=0.014971247874200344, left_val=-1.06321906614239, right_val=0.9405399431259602, a_features=[0], a_thresholds=[0.0002271244302392006], a_signs=[True])]"
     },
     "execution_count": 64,
     "metadata": {},
     "output_type": "execute_result"
    }
   ],
   "source": [
    "stumps"
   ],
   "metadata": {
    "collapsed": false,
    "pycharm": {
     "name": "#%%\n"
    }
   }
  },
  {
   "cell_type": "code",
   "execution_count": 68,
   "outputs": [
    {
     "data": {
      "text/plain": "199.99999999999997"
     },
     "execution_count": 68,
     "metadata": {},
     "output_type": "execute_result"
    }
   ],
   "source": [
    "np.sum(np.apply_along_axis(stumps[0], 1, X) ** 2)"
   ],
   "metadata": {
    "collapsed": false,
    "pycharm": {
     "name": "#%%\n"
    }
   }
  },
  {
   "cell_type": "code",
   "execution_count": 71,
   "outputs": [
    {
     "data": {
      "text/plain": "True"
     },
     "execution_count": 71,
     "metadata": {},
     "output_type": "execute_result"
    }
   ],
   "source": [
    "np.isclose(np.apply_along_axis(stumps[0], 1, X).sum(), 0)"
   ],
   "metadata": {
    "collapsed": false,
    "pycharm": {
     "name": "#%%\n"
    }
   }
  },
  {
   "cell_type": "code",
   "execution_count": null,
   "outputs": [],
   "source": [],
   "metadata": {
    "collapsed": false,
    "pycharm": {
     "name": "#%%\n"
    }
   }
  }
 ],
 "metadata": {
  "kernelspec": {
   "display_name": "Python 3",
   "language": "python",
   "name": "python3"
  },
  "language_info": {
   "codemirror_mode": {
    "name": "ipython",
    "version": 2
   },
   "file_extension": ".py",
   "mimetype": "text/x-python",
   "name": "python",
   "nbconvert_exporter": "python",
   "pygments_lexer": "ipython2",
   "version": "2.7.6"
  }
 },
 "nbformat": 4,
 "nbformat_minor": 0
}